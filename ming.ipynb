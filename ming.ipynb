{
 "cells": [
  {
   "cell_type": "code",
   "execution_count": 32,
   "metadata": {},
   "outputs": [],
   "source": [
    "import pandas as pd"
   ]
  },
  {
   "cell_type": "code",
   "execution_count": 33,
   "metadata": {},
   "outputs": [],
   "source": [
    "df = pd.read_csv(\"outnow.csv\")"
   ]
  },
  {
   "cell_type": "code",
   "execution_count": 34,
   "metadata": {},
   "outputs": [],
   "source": [
    "df2 = pd.read_csv(\"fetchlaew.csv\")"
   ]
  },
  {
   "cell_type": "code",
   "execution_count": 35,
   "metadata": {},
   "outputs": [
    {
     "name": "stdout",
     "output_type": "stream",
     "text": [
      "1988\n",
      "2006\n"
     ]
    }
   ],
   "source": [
    "print(df2[\"title\"].unique().size)\n",
    "print(df2.shape[0])"
   ]
  },
  {
   "cell_type": "code",
   "execution_count": 36,
   "metadata": {},
   "outputs": [],
   "source": [
    "df2 = df2.drop_duplicates(subset=['title'])"
   ]
  },
  {
   "cell_type": "code",
   "execution_count": 37,
   "metadata": {},
   "outputs": [
    {
     "name": "stdout",
     "output_type": "stream",
     "text": [
      "1988\n",
      "1988\n"
     ]
    }
   ],
   "source": [
    "print(df2[\"title\"].unique().size)\n",
    "print(df2.shape[0])"
   ]
  },
  {
   "cell_type": "code",
   "execution_count": 38,
   "metadata": {},
   "outputs": [],
   "source": [
    "dm = pd.get_dummies(df2['subjects'], dtype=int)\n",
    "df = pd.concat([df2.drop(columns=['subjects']), dm], axis=1)"
   ]
  },
  {
   "cell_type": "code",
   "execution_count": 39,
   "metadata": {},
   "outputs": [],
   "source": [
    "df.drop(columns=[\"Unnamed: 0\"]).to_csv(\"extra1000\")"
   ]
  },
  {
   "cell_type": "markdown",
   "metadata": {},
   "source": [
    "### DF for tfidf"
   ]
  },
  {
   "cell_type": "code",
   "execution_count": 43,
   "metadata": {},
   "outputs": [],
   "source": [
    "df = pd.read_csv(\"outnow.csv\")\n",
    "df2 = pd.read_csv(\"fetchnow.csv\")"
   ]
  },
  {
   "cell_type": "code",
   "execution_count": 46,
   "metadata": {},
   "outputs": [],
   "source": [
    "df2 = df2.drop(columns=['Unnamed: 0'])"
   ]
  },
  {
   "cell_type": "code",
   "execution_count": 51,
   "metadata": {},
   "outputs": [
    {
     "data": {
      "text/plain": [
       "(16407, 37)"
      ]
     },
     "execution_count": 51,
     "metadata": {},
     "output_type": "execute_result"
    }
   ],
   "source": [
    "df.shape"
   ]
  },
  {
   "cell_type": "code",
   "execution_count": 52,
   "metadata": {},
   "outputs": [
    {
     "data": {
      "text/plain": [
       "(1988, 29)"
      ]
     },
     "execution_count": 52,
     "metadata": {},
     "output_type": "execute_result"
    }
   ],
   "source": [
    "df2.shape"
   ]
  },
  {
   "cell_type": "code",
   "execution_count": 65,
   "metadata": {},
   "outputs": [],
   "source": [
    "df3 = pd.concat([df.drop(columns=['Unnamed: 0', 'affiliation_id']),df2])\n",
    "df3 = df3.drop(columns=['Vector_0', 'Vector_1', 'Vector_2', 'Vector_3', 'Vector_4'])"
   ]
  },
  {
   "cell_type": "code",
   "execution_count": 71,
   "metadata": {},
   "outputs": [
    {
     "data": {
      "text/plain": [
       "(18395, 31)"
      ]
     },
     "execution_count": 71,
     "metadata": {},
     "output_type": "execute_result"
    }
   ],
   "source": [
    "df3.shape"
   ]
  },
  {
   "cell_type": "code",
   "execution_count": null,
   "metadata": {},
   "outputs": [],
   "source": []
  },
  {
   "cell_type": "code",
   "execution_count": 72,
   "metadata": {},
   "outputs": [
    {
     "data": {
      "text/html": [
       "<div>\n",
       "<style scoped>\n",
       "    .dataframe tbody tr th:only-of-type {\n",
       "        vertical-align: middle;\n",
       "    }\n",
       "\n",
       "    .dataframe tbody tr th {\n",
       "        vertical-align: top;\n",
       "    }\n",
       "\n",
       "    .dataframe thead th {\n",
       "        text-align: right;\n",
       "    }\n",
       "</style>\n",
       "<table border=\"1\" class=\"dataframe\">\n",
       "  <thead>\n",
       "    <tr style=\"text-align: right;\">\n",
       "      <th></th>\n",
       "      <th>title</th>\n",
       "      <th>keywords</th>\n",
       "      <th>title_keywords</th>\n",
       "    </tr>\n",
       "  </thead>\n",
       "  <tbody>\n",
       "    <tr>\n",
       "      <th>0</th>\n",
       "      <td>Reduction of algal wall-growth biofilm for the...</td>\n",
       "      <td>Surfactant;Microalgae;Chlorococcum;Biofilm;Pho...</td>\n",
       "      <td>Reduction of algal wall-growth biofilm for the...</td>\n",
       "    </tr>\n",
       "    <tr>\n",
       "      <th>1</th>\n",
       "      <td>Dietary anthocyanins inhibit insulin fibril fo...</td>\n",
       "      <td>Cytotoxicity;Cyanidin;Malvidin;Anthocyanins;In...</td>\n",
       "      <td>Dietary anthocyanins inhibit insulin fibril fo...</td>\n",
       "    </tr>\n",
       "    <tr>\n",
       "      <th>2</th>\n",
       "      <td>Metformin delivery via iontophoresis based on ...</td>\n",
       "      <td>Transdermal drug delivery;κ-Carrageenan;Metformin</td>\n",
       "      <td>Metformin delivery via iontophoresis based on ...</td>\n",
       "    </tr>\n",
       "    <tr>\n",
       "      <th>3</th>\n",
       "      <td>Experimental investigations of CO2 absorption ...</td>\n",
       "      <td>CO2 capture;CO2 absorption;Amine blends;Equili...</td>\n",
       "      <td>Experimental investigations of CO2 absorption ...</td>\n",
       "    </tr>\n",
       "    <tr>\n",
       "      <th>4</th>\n",
       "      <td>High-throughput screening of highly active and...</td>\n",
       "      <td>Single-atom catalysts;Tungsten diboride;Electr...</td>\n",
       "      <td>High-throughput screening of highly active and...</td>\n",
       "    </tr>\n",
       "  </tbody>\n",
       "</table>\n",
       "</div>"
      ],
      "text/plain": [
       "                                               title  \\\n",
       "0  Reduction of algal wall-growth biofilm for the...   \n",
       "1  Dietary anthocyanins inhibit insulin fibril fo...   \n",
       "2  Metformin delivery via iontophoresis based on ...   \n",
       "3  Experimental investigations of CO2 absorption ...   \n",
       "4  High-throughput screening of highly active and...   \n",
       "\n",
       "                                            keywords  \\\n",
       "0  Surfactant;Microalgae;Chlorococcum;Biofilm;Pho...   \n",
       "1  Cytotoxicity;Cyanidin;Malvidin;Anthocyanins;In...   \n",
       "2  Transdermal drug delivery;κ-Carrageenan;Metformin   \n",
       "3  CO2 capture;CO2 absorption;Amine blends;Equili...   \n",
       "4  Single-atom catalysts;Tungsten diboride;Electr...   \n",
       "\n",
       "                                      title_keywords  \n",
       "0  Reduction of algal wall-growth biofilm for the...  \n",
       "1  Dietary anthocyanins inhibit insulin fibril fo...  \n",
       "2  Metformin delivery via iontophoresis based on ...  \n",
       "3  Experimental investigations of CO2 absorption ...  \n",
       "4  High-throughput screening of highly active and...  "
      ]
     },
     "execution_count": 72,
     "metadata": {},
     "output_type": "execute_result"
    }
   ],
   "source": [
    "df3['title_keywords'] = df3['title'] + \" \" + df3['keywords']\n",
    "# Display the updated DataFrame with the new column\n",
    "\n",
    "df3[['title', 'keywords', 'title_keywords']].head()"
   ]
  },
  {
   "cell_type": "code",
   "execution_count": 73,
   "metadata": {},
   "outputs": [
    {
     "data": {
      "text/plain": [
       "(18395, 31)"
      ]
     },
     "execution_count": 73,
     "metadata": {},
     "output_type": "execute_result"
    }
   ],
   "source": [
    "df3.shape"
   ]
  },
  {
   "cell_type": "code",
   "execution_count": 75,
   "metadata": {},
   "outputs": [],
   "source": [
    "df3.to_csv(\"outnow_2.csv\")"
   ]
  },
  {
   "cell_type": "code",
   "execution_count": null,
   "metadata": {},
   "outputs": [],
   "source": []
  }
 ],
 "metadata": {
  "kernelspec": {
   "display_name": "Python 3",
   "language": "python",
   "name": "python3"
  },
  "language_info": {
   "codemirror_mode": {
    "name": "ipython",
    "version": 3
   },
   "file_extension": ".py",
   "mimetype": "text/x-python",
   "name": "python",
   "nbconvert_exporter": "python",
   "pygments_lexer": "ipython3",
   "version": "3.11.3"
  }
 },
 "nbformat": 4,
 "nbformat_minor": 2
}
