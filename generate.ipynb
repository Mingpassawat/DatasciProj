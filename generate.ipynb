{
 "cells": [
  {
   "cell_type": "code",
   "execution_count": 72,
   "metadata": {},
   "outputs": [
    {
     "name": "stdout",
     "output_type": "stream",
     "text": [
      "Data successfully written to data.csv\n"
     ]
    }
   ],
   "source": [
    "import json\n",
    "import os\n",
    "import csv\n",
    "\n",
    "def extract_funding_agencies_and_subjects_from_files(directory_path, output_csv_path):\n",
    "    funding_data = []\n",
    "\n",
    "    # Recursively walk through directories and subdirectories\n",
    "    for root, _, files in os.walk(directory_path):\n",
    "        for filename in files:\n",
    "            if filename.endswith('.json'):\n",
    "                file_path = os.path.join(root, filename)\n",
    "                try:\n",
    "                    # Open and load the JSON file\n",
    "                    with open(file_path, 'r', encoding='utf-8') as file:\n",
    "                        data = json.load(file)\n",
    "\n",
    "                    # Extract subject areas from the top-level structure\n",
    "                    subject_areas = data.get(\"abstracts-retrieval-response\", {}).get(\"subject-areas\", {}).get(\"subject-area\", [])\n",
    "                    subjects = set()\n",
    "                    if isinstance(subject_areas, list):\n",
    "                        for subject in subject_areas:\n",
    "                            description = subject.get(\"@abbrev\", None)\n",
    "                            subjects.add(description)\n",
    "                    elif isinstance(subject_areas, dict):\n",
    "                        description = subject_areas.get(\"@abbrev\", None).add(description)\n",
    "\n",
    "                    # Extract keywords\n",
    "                    authkeywords = data.get(\"abstracts-retrieval-response\", {})\n",
    "                    if authkeywords.get(\"authkeywords\", {}):\n",
    "                        authkeywords = authkeywords.get(\"authkeywords\", {}).get(\"author-keyword\", {})\n",
    "                    keywords = set()\n",
    "                    if isinstance(authkeywords, list):\n",
    "                        for kw in authkeywords:\n",
    "                            description = kw.get(\"$\", None)\n",
    "                            if description:\n",
    "                                keywords.add(description)\n",
    "                    if not keywords:\n",
    "                        keywords = {} \n",
    "                  \n",
    "\n",
    "                    citedbycount = data.get(\"abstracts-retrieval-response\", {}).get(\"coredata\",{}).get(\"citedby-count\",None)\n",
    "\n",
    "                    # Add agency and subjects to the data\n",
    "                    funding_data.append({\n",
    "                        \"File\": filename,\n",
    "                        \"Subjects\": \";\".join(subjects),\n",
    "                        \"Keywords\": \";\".join(keywords),\n",
    "                        \"Cited-by-count\": citedbycount\n",
    "                    })\n",
    "\n",
    "                except FileNotFoundError:\n",
    "                    print(f\"Error: The file {file_path} was not found.\")\n",
    "                except Exception as e:\n",
    "                    print(f\"Unexpected error in file {file_path}: {e}\")\n",
    "\n",
    "    # Write to CSV\n",
    "    try:\n",
    "        with open(output_csv_path, 'w', encoding='utf-8', newline='') as csvfile:\n",
    "            fieldnames = [\"File\", \"Subjects\", \"Keywords\", 'Cited-by-count']\n",
    "            writer = csv.DictWriter(csvfile, fieldnames=fieldnames)\n",
    "\n",
    "            writer.writeheader()\n",
    "            writer.writerows(funding_data)\n",
    "        \n",
    "        print(f\"Data successfully written to {output_csv_path}\")\n",
    "    except Exception as e:\n",
    "        print(f\"Error writing to CSV: {e}\")\n",
    "\n",
    "# Example usage\n",
    "if __name__ == \"__main__\":\n",
    "    directory_path = \"data/abstracts/\"\n",
    "    output_csv_path = \"data.csv\"\n",
    "    extract_funding_agencies_and_subjects_from_files(directory_path, output_csv_path)"
   ]
  },
  {
   "cell_type": "code",
   "execution_count": 69,
   "metadata": {},
   "outputs": [],
   "source": [
    "with open(\"201800008.json\", 'r', encoding='utf-8') as file:\n",
    "    data = json.load(file)"
   ]
  },
  {
   "cell_type": "code",
   "execution_count": 70,
   "metadata": {},
   "outputs": [
    {
     "data": {
      "text/plain": [
       "'24'"
      ]
     },
     "execution_count": 70,
     "metadata": {},
     "output_type": "execute_result"
    }
   ],
   "source": [
    "citedbycount = data.get(\"abstracts-retrieval-response\", {}).get(\"coredata\",{}).get(\"citedby-count\",[])\n",
    "citedbycount"
   ]
  },
  {
   "cell_type": "code",
   "execution_count": 48,
   "metadata": {},
   "outputs": [],
   "source": [
    "print(authkeywords)"
   ]
  }
 ],
 "metadata": {
  "kernelspec": {
   "display_name": "Python 3",
   "language": "python",
   "name": "python3"
  },
  "language_info": {
   "codemirror_mode": {
    "name": "ipython",
    "version": 3
   },
   "file_extension": ".py",
   "mimetype": "text/x-python",
   "name": "python",
   "nbconvert_exporter": "python",
   "pygments_lexer": "ipython3",
   "version": "3.11.3"
  }
 },
 "nbformat": 4,
 "nbformat_minor": 2
}
